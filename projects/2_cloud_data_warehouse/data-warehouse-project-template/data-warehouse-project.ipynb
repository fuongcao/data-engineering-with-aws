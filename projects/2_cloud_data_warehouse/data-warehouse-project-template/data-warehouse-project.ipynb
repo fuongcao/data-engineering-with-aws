{
 "cells": [
  {
   "cell_type": "markdown",
   "metadata": {},
   "source": [
    "### Project Steps\n",
    "#### Create IAMRole"
   ]
  },
  {
   "cell_type": "code",
   "execution_count": 1,
   "metadata": {},
   "outputs": [
    {
     "name": "stdout",
     "output_type": "stream",
     "text": [
      "create_dwh_role - Create iam client ...\n",
      "create_dwh_role - Creating a new IAM Role: \"dwhRole\"\n",
      "create_dwh_role - Attaching Policy\n",
      "create_dwh_role - Get the IAM role ARN\n",
      "create_dwh_role - Update the IAM role ARN to iac.cfg\n",
      "create_dwh_role DWH_IAM_ROLE_ARN: \"arn:aws:iam::191986948689:role/dwhRole\"\n"
     ]
    }
   ],
   "source": [
    "from iac import create_dwh_role\n",
    "\n",
    "result = create_dwh_role()"
   ]
  },
  {
   "cell_type": "markdown",
   "metadata": {},
   "source": [
    "#### Create RedShift cluster"
   ]
  },
  {
   "cell_type": "code",
   "execution_count": 2,
   "metadata": {},
   "outputs": [
    {
     "name": "stdout",
     "output_type": "stream",
     "text": [
      "create_dwh_redshift_cluster - Creating Redshift client ...\n",
      "create_dwh_redshift_cluster - \"{'Cluster': {'ClusterIdentifier': 'dwhcluster', 'NodeType': 'dc2.large', 'ClusterStatus': 'creating', 'ClusterAvailabilityStatus': 'Modifying', 'MasterUsername': 'dwhuser', 'DBName': 'dwh', 'AutomatedSnapshotRetentionPeriod': 1, 'ManualSnapshotRetentionPeriod': -1, 'ClusterSecurityGroups': [], 'VpcSecurityGroups': [{'VpcSecurityGroupId': 'sg-02d2128651b4ebb8b', 'Status': 'active'}], 'ClusterParameterGroups': [{'ParameterGroupName': 'default.redshift-1.0', 'ParameterApplyStatus': 'in-sync'}], 'ClusterSubnetGroupName': 'default', 'VpcId': 'vpc-000f4fd2de9409281', 'PreferredMaintenanceWindow': 'mon:12:30-mon:13:00', 'PendingModifiedValues': {'MasterUserPassword': '****'}, 'ClusterVersion': '1.0', 'AllowVersionUpgrade': True, 'NumberOfNodes': 1, 'PubliclyAccessible': True, 'Encrypted': False, 'Tags': [], 'EnhancedVpcRouting': False, 'IamRoles': [{'IamRoleArn': 'arn:aws:iam::191986948689:role/testRole3', 'ApplyStatus': 'adding'}], 'MaintenanceTrackName': 'current', 'DeferredMaintenanceWindows': [], 'NextMaintenanceWindowStartTime': datetime.datetime(2024, 4, 29, 12, 30, tzinfo=tzutc()), 'ClusterNamespaceArn': 'arn:aws:redshift:us-west-2:191986948689:namespace:ea42e947-92b4-495f-bf0a-435fa8c6931a', 'AquaConfiguration': {'AquaStatus': 'disabled', 'AquaConfigurationStatus': 'auto'}, 'MultiAZ': 'Disabled'}, 'ResponseMetadata': {'RequestId': '226bbec5-a35c-4640-a508-b9f35c7268b9', 'HTTPStatusCode': 200, 'HTTPHeaders': {'x-amzn-requestid': '226bbec5-a35c-4640-a508-b9f35c7268b9', 'content-type': 'text/xml', 'content-length': '2617', 'date': 'Mon, 22 Apr 2024 15:12:13 GMT'}, 'RetryAttempts': 0}}\" !\n"
     ]
    }
   ],
   "source": [
    "from iac import create_dwh_redshift_cluster\n",
    "\n",
    "result = create_dwh_redshift_cluster()"
   ]
  },
  {
   "cell_type": "markdown",
   "metadata": {},
   "source": [
    "####  Run create_tables.py to create Redshift tables"
   ]
  },
  {
   "cell_type": "code",
   "execution_count": 1,
   "metadata": {},
   "outputs": [
    {
     "name": "stdout",
     "output_type": "stream",
     "text": [
      "executing query \"staging_events_table_drop\"\n",
      "query \"staging_events_table_drop\" was commited\n",
      "executing query \"staging_songs_table_drop\"\n",
      "query \"staging_songs_table_drop\" was commited\n",
      "executing query \"songplay_table_drop\"\n",
      "query \"songplay_table_drop\" was commited\n",
      "executing query \"user_table_drop\"\n",
      "query \"user_table_drop\" was commited\n",
      "executing query \"song_table_drop\"\n",
      "query \"song_table_drop\" was commited\n",
      "executing query \"artist_table_drop\"\n",
      "query \"artist_table_drop\" was commited\n",
      "executing query \"time_table_drop\"\n",
      "query \"time_table_drop\" was commited\n",
      "executing query \"staging_events_table_create\"\n",
      "query \"staging_events_table_create\" was commited\n",
      "executing query \"staging_songs_table_create\"\n",
      "query \"staging_songs_table_create\" was commited\n",
      "executing query \"songplay_table_create\"\n",
      "query \"songplay_table_create\" was commited\n",
      "executing query \"user_table_create\"\n",
      "query \"user_table_create\" was commited\n",
      "executing query \"song_table_create\"\n",
      "query \"song_table_create\" was commited\n",
      "executing query \"artist_table_create\"\n",
      "query \"artist_table_create\" was commited\n",
      "executing query \"time_table_create\"\n",
      "query \"time_table_create\" was commited\n"
     ]
    }
   ],
   "source": [
    "%run -i create_tables.py"
   ]
  },
  {
   "cell_type": "markdown",
   "metadata": {},
   "source": [
    "####  Run etl.py to load_staging_tables and insert data to production tables "
   ]
  },
  {
   "cell_type": "code",
   "execution_count": 2,
   "metadata": {},
   "outputs": [
    {
     "name": "stdout",
     "output_type": "stream",
     "text": [
      "executing query \"staging_events_copy\"\n",
      "query \"staging_events_copy\" was commited - excution time 3.8422434329986572\n",
      "executing query \"staging_songs_copy\"\n",
      "query \"staging_songs_copy\" was commited - excution time 2.668637752532959\n",
      "executing query \"songplay_table_insert\"\n",
      "query \"songplay_table_insert\" was commited - excution time 17.63638186454773\n",
      "executing query \"user_table_insert\"\n",
      "query \"user_table_insert\" was commited - excution time 11.382440090179443\n",
      "executing query \"song_table_insert\"\n",
      "query \"song_table_insert\" was commited - excution time 13.042532682418823\n",
      "executing query \"artist_table_insert\"\n",
      "query \"artist_table_insert\" was commited - excution time 9.2164466381073\n",
      "executing query \"time_table_insert\"\n",
      "query \"time_table_insert\" was commited - excution time 6.4848244190216064\n"
     ]
    }
   ],
   "source": [
    "%run -i etl.py"
   ]
  },
  {
   "cell_type": "markdown",
   "metadata": {},
   "source": [
    "#### Delete IAMRole, RedShiftCluster"
   ]
  },
  {
   "cell_type": "code",
   "execution_count": 4,
   "metadata": {},
   "outputs": [
    {
     "name": "stdout",
     "output_type": "stream",
     "text": [
      "delete_dwh_role - Creating iam client ...\n",
      "delete_dwh_role - Detaching role policy ...\n",
      "delete_dwh_role - Deleting role \"dwhRole\" ...\n",
      "delete_dwh_role - Role \"dwhRole\" have been deleted !\n"
     ]
    }
   ],
   "source": [
    "from iac import delete_dwh_role\n",
    "\n",
    "result = delete_dwh_role()"
   ]
  },
  {
   "cell_type": "code",
   "execution_count": 3,
   "metadata": {},
   "outputs": [
    {
     "name": "stdout",
     "output_type": "stream",
     "text": [
      "delete_dwh_redshift_cluster - Create Redshift client ...\n",
      "delete_dwh_redshift_cluster - Deleting Redshift cluster \"dwhCluster\" ...\n",
      "delete_dwh_redshift_cluster - Redshift cluster {'Cluster': {'ClusterIdentifier': 'dwhcluster', 'NodeType': 'dc2.large', 'ClusterStatus': 'deleting', 'ClusterAvailabilityStatus': 'Modifying', 'MasterUsername': 'dwhuser', 'DBName': 'dwh', 'Endpoint': {'Address': 'dwhcluster.csjjygtw1gny.us-west-2.redshift.amazonaws.com', 'Port': 5439}, 'ClusterCreateTime': datetime.datetime(2024, 4, 22, 15, 17, 40, 513000, tzinfo=tzutc()), 'AutomatedSnapshotRetentionPeriod': 1, 'ManualSnapshotRetentionPeriod': -1, 'ClusterSecurityGroups': [], 'VpcSecurityGroups': [{'VpcSecurityGroupId': 'sg-02d2128651b4ebb8b', 'Status': 'active'}], 'ClusterParameterGroups': [{'ParameterGroupName': 'default.redshift-1.0', 'ParameterApplyStatus': 'in-sync'}], 'ClusterSubnetGroupName': 'default', 'VpcId': 'vpc-000f4fd2de9409281', 'AvailabilityZone': 'us-west-2d', 'PreferredMaintenanceWindow': 'mon:12:30-mon:13:00', 'PendingModifiedValues': {}, 'ClusterVersion': '1.0', 'AllowVersionUpgrade': True, 'NumberOfNodes': 1, 'PubliclyAccessible': True, 'Encrypted': False, 'Tags': [], 'EnhancedVpcRouting': False, 'IamRoles': [{'IamRoleArn': 'arn:aws:iam::191986948689:role/dwhRole', 'ApplyStatus': 'in-sync'}], 'MaintenanceTrackName': 'current', 'DeferredMaintenanceWindows': [], 'NextMaintenanceWindowStartTime': datetime.datetime(2024, 4, 29, 12, 30, tzinfo=tzutc()), 'ClusterNamespaceArn': 'arn:aws:redshift:us-west-2:191986948689:namespace:ea42e947-92b4-495f-bf0a-435fa8c6931a', 'TotalStorageCapacityInMegaBytes': 400000, 'AquaConfiguration': {'AquaStatus': 'disabled', 'AquaConfigurationStatus': 'auto'}, 'MultiAZ': 'Disabled'}, 'ResponseMetadata': {'RequestId': 'e323ef56-4925-4b3e-b6b9-aaaf71ef192f', 'HTTPStatusCode': 200, 'HTTPHeaders': {'x-amzn-requestid': 'e323ef56-4925-4b3e-b6b9-aaaf71ef192f', 'content-type': 'text/xml', 'content-length': '2881', 'date': 'Mon, 22 Apr 2024 17:21:56 GMT'}, 'RetryAttempts': 0}} !\n"
     ]
    }
   ],
   "source": [
    "from iac import delete_dwh_redshift_cluster\n",
    "\n",
    "result = delete_dwh_redshift_cluster()"
   ]
  }
 ],
 "metadata": {
  "kernelspec": {
   "display_name": "Python 3",
   "language": "python",
   "name": "python3"
  },
  "language_info": {
   "codemirror_mode": {
    "name": "ipython",
    "version": 3
   },
   "file_extension": ".py",
   "mimetype": "text/x-python",
   "name": "python",
   "nbconvert_exporter": "python",
   "pygments_lexer": "ipython3",
   "version": "3.12.3"
  }
 },
 "nbformat": 4,
 "nbformat_minor": 2
}
